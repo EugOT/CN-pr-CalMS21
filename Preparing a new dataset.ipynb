{
 "cells": [
  {
   "cell_type": "markdown",
   "source": [
    "# MUW Neuroscience Seminar WS 23/24\n",
    "## Group Work: CAL MS21 Dataset"
   ],
   "metadata": {
    "collapsed": false,
    "pycharm": {
     "name": "#%% md\n"
    }
   }
  },
  {
   "cell_type": "markdown",
   "source": [
    "## Preprocessing Goal\n",
    "\n",
    "The originally nested data of the Mouse Social Behaviour Challenge is simplified and reduced to just the keypoints of the mouse body parts and the annotations."
   ],
   "metadata": {
    "collapsed": false,
    "pycharm": {
     "name": "#%% md\n"
    }
   }
  },
  {
   "cell_type": "code",
   "execution_count": 1,
   "outputs": [],
   "source": [
    "import numpy as np\n",
    "import pandas as pd"
   ],
   "metadata": {
    "collapsed": false,
    "pycharm": {
     "name": "#%%\n"
    }
   }
  },
  {
   "cell_type": "code",
   "execution_count": 2,
   "outputs": [],
   "source": [
    "def load_task1_data(data_path):\n",
    "  \"\"\"\n",
    "  Load data for task 1:\n",
    "      The vocaubulary tells you how to map behavior names to class ids;\n",
    "      it is the same for all sequences in this dataset.\n",
    "  \"\"\"\n",
    "  data_dict = np.load(data_path, allow_pickle=True).item()\n",
    "  dataset = data_dict['annotator-id_0']\n",
    "  # Get any sequence key.\n",
    "  sequence_id = list(data_dict['annotator-id_0'].keys())[0]\n",
    "  vocabulary = data_dict['annotator-id_0'][sequence_id]['metadata']['vocab']\n",
    "  return dataset, vocabulary\n",
    "\n",
    "\n",
    "training_data, vocab = load_task1_data('data/calms21_task1_train.npy') #check where you created the files in the loading notebook\n",
    "test_data, _ = load_task1_data('data/calms21_task1_test.npy') #check where you created the files in the loading notebook"
   ],
   "metadata": {
    "collapsed": false,
    "pycharm": {
     "name": "#%%\n"
    }
   }
  },
  {
   "cell_type": "code",
   "execution_count": 3,
   "outputs": [
    {
     "name": "stdout",
     "output_type": "stream",
     "text": [
      "Sample dataset keys:  ['task1/train/mouse001_task1_annotator1', 'task1/train/mouse002_task1_annotator1', 'task1/train/mouse003_task1_annotator1']\n",
      "Vocabulary:  {'attack': 0, 'investigation': 1, 'mount': 2, 'other': 3}\n",
      "Number of train Sequences:  70\n",
      "Number of test Sequences:  19\n"
     ]
    }
   ],
   "source": [
    "print(\"Sample dataset keys: \", list(training_data.keys())[:3])\n",
    "print(\"Vocabulary: \", vocab)\n",
    "print(\"Number of train Sequences: \", len(training_data))\n",
    "print(\"Number of test Sequences: \", len(test_data))"
   ],
   "metadata": {
    "collapsed": false,
    "pycharm": {
     "name": "#%%\n"
    }
   }
  },
  {
   "cell_type": "code",
   "execution_count": 4,
   "outputs": [
    {
     "name": "stdout",
     "output_type": "stream",
     "text": [
      "Name of our sample sequence:  task1/train/mouse001_task1_annotator1\n",
      "Sequence keys:  dict_keys(['keypoints', 'scores', 'annotations', 'metadata'])\n",
      "Sequence metadata:  {'annotator-id': 0, 'vocab': {'attack': 0, 'investigation': 1, 'mount': 2, 'other': 3}}\n",
      "Number of Frames in Sequence \"task1/train/mouse001_task1_annotator1\":  21364\n",
      "Keypoints data shape of Sequence \"task1/train/mouse001_task1_annotator1\":  (21364, 2, 2, 7)\n"
     ]
    }
   ],
   "source": [
    "sequence_names = list(training_data.keys())\n",
    "sample_sequence_key = sequence_names[0]\n",
    "single_sequence = training_data[sample_sequence_key]\n",
    "print(\"Name of our sample sequence: \", sample_sequence_key)\n",
    "print(\"Sequence keys: \", single_sequence.keys())\n",
    "print(\"Sequence metadata: \", single_sequence['metadata'])\n",
    "print(f\"Number of Frames in Sequence \\\"{sample_sequence_key}\\\": \", len(single_sequence['annotations']))\n",
    "print(f\"Keypoints data shape of Sequence \\\"{sample_sequence_key}\\\": \", single_sequence['keypoints'].shape)"
   ],
   "metadata": {
    "collapsed": false,
    "pycharm": {
     "name": "#%%\n"
    }
   }
  },
  {
   "cell_type": "code",
   "execution_count": 5,
   "outputs": [
    {
     "name": "stdout",
     "output_type": "stream",
     "text": [
      "We have  70  sequences\n",
      "We have  507738  frames in total in the dataset\n"
     ]
    }
   ],
   "source": [
    "# simplify data in a dataframe\n",
    "\n",
    "sequence_names = list(training_data.keys())\n",
    "\n",
    "data = []\n",
    "\n",
    "#columns\n",
    "mice = ['m1', 'm2']\n",
    "coordinates = ['x', 'y']\n",
    "bodyparts = ['nose', 'left_ear', 'right_ear', 'neck', 'left_hip', 'right_hip', 'tail_base']\n",
    "\n",
    "print('We have ', len(sequence_names), ' sequences')\n",
    "for sequence in sequence_names:\n",
    "\n",
    "    for f, frame in enumerate(training_data[sequence]['keypoints']):\n",
    "\n",
    "      tabdata = {}\n",
    "      id = sequence + str(f)\n",
    "      tabdata = {'sequence': sequence, 'frame': f, 'id': id}\n",
    "      tabdata['label'] = training_data[sequence]['annotations'][f]\n",
    "\n",
    "      # create a column for each mouse + coordinate + bodypart column\n",
    "      for m, mouse in enumerate(frame):\n",
    "\n",
    "        for c, coordinate in enumerate(mouse):\n",
    "\n",
    "          for b, c_bodypart in enumerate(coordinate):\n",
    "\n",
    "            column_name = mice[m] + '_' + coordinates[c] + '_' + bodyparts[b]\n",
    "            tabdata[column_name] = c_bodypart\n",
    "\n",
    "      data.append(tabdata)\n",
    "\n",
    "print('We have ', len(data), ' frames in total in the dataset')"
   ],
   "metadata": {
    "collapsed": false,
    "pycharm": {
     "name": "#%%\n"
    }
   }
  },
  {
   "cell_type": "code",
   "execution_count": 6,
   "outputs": [
    {
     "data": {
      "text/plain": "                                sequence  frame  \\\n0  task1/train/mouse001_task1_annotator1      0   \n1  task1/train/mouse001_task1_annotator1      1   \n2  task1/train/mouse001_task1_annotator1      2   \n3  task1/train/mouse001_task1_annotator1      3   \n4  task1/train/mouse001_task1_annotator1      4   \n\n                                       id  label   m1_x_nose  m1_x_left_ear  \\\n0  task1/train/mouse001_task1_annotator10      3  831.659204     805.659204   \n1  task1/train/mouse001_task1_annotator11      1  833.050439     809.050439   \n2  task1/train/mouse001_task1_annotator12      1  838.718976     816.718976   \n3  task1/train/mouse001_task1_annotator13      1  826.757507     815.757507   \n4  task1/train/mouse001_task1_annotator14      1  822.045709     812.045709   \n\n   m1_x_right_ear   m1_x_neck  m1_x_left_hip  m1_x_right_hip  ...  \\\n0      775.659204  780.659204     711.659204      711.659204  ...   \n1      778.050439  783.050439     723.050439      717.050439  ...   \n2      776.718976  787.718976     730.718976      713.718976  ...   \n3      774.757507  785.757507     743.757507      711.757507  ...   \n4      768.045709  779.045709     749.045709      709.045709  ...   \n\n   m2_x_left_hip  m2_x_right_hip  m2_x_tail_base   m2_y_nose  m2_y_left_ear  \\\n0     796.915924      840.915924      766.915924  253.216902     195.216902   \n1     799.907019      846.907019      766.907019  259.539977     204.539977   \n2     800.195703      860.195703      777.195703  256.902935     208.902935   \n3     794.788861      856.788861      786.788861  263.420539     206.420539   \n4     789.578644      862.578644      793.578644  263.366469     202.366469   \n\n   m2_y_right_ear   m2_y_neck  m2_y_left_hip  m2_y_right_hip  m2_y_tail_base  \n0      193.216902  179.216902     152.216902      102.216902       97.216902  \n1      201.539977  188.539977     153.539977      105.539977       98.539977  \n2      205.902935  193.902935     150.902935      112.902935       99.902935  \n3      206.420539  193.420539     147.420539      113.420539       97.420539  \n4      201.366469  190.366469     143.366469      120.366469       95.366469  \n\n[5 rows x 32 columns]",
      "text/html": "<div>\n<style scoped>\n    .dataframe tbody tr th:only-of-type {\n        vertical-align: middle;\n    }\n\n    .dataframe tbody tr th {\n        vertical-align: top;\n    }\n\n    .dataframe thead th {\n        text-align: right;\n    }\n</style>\n<table border=\"1\" class=\"dataframe\">\n  <thead>\n    <tr style=\"text-align: right;\">\n      <th></th>\n      <th>sequence</th>\n      <th>frame</th>\n      <th>id</th>\n      <th>label</th>\n      <th>m1_x_nose</th>\n      <th>m1_x_left_ear</th>\n      <th>m1_x_right_ear</th>\n      <th>m1_x_neck</th>\n      <th>m1_x_left_hip</th>\n      <th>m1_x_right_hip</th>\n      <th>...</th>\n      <th>m2_x_left_hip</th>\n      <th>m2_x_right_hip</th>\n      <th>m2_x_tail_base</th>\n      <th>m2_y_nose</th>\n      <th>m2_y_left_ear</th>\n      <th>m2_y_right_ear</th>\n      <th>m2_y_neck</th>\n      <th>m2_y_left_hip</th>\n      <th>m2_y_right_hip</th>\n      <th>m2_y_tail_base</th>\n    </tr>\n  </thead>\n  <tbody>\n    <tr>\n      <th>0</th>\n      <td>task1/train/mouse001_task1_annotator1</td>\n      <td>0</td>\n      <td>task1/train/mouse001_task1_annotator10</td>\n      <td>3</td>\n      <td>831.659204</td>\n      <td>805.659204</td>\n      <td>775.659204</td>\n      <td>780.659204</td>\n      <td>711.659204</td>\n      <td>711.659204</td>\n      <td>...</td>\n      <td>796.915924</td>\n      <td>840.915924</td>\n      <td>766.915924</td>\n      <td>253.216902</td>\n      <td>195.216902</td>\n      <td>193.216902</td>\n      <td>179.216902</td>\n      <td>152.216902</td>\n      <td>102.216902</td>\n      <td>97.216902</td>\n    </tr>\n    <tr>\n      <th>1</th>\n      <td>task1/train/mouse001_task1_annotator1</td>\n      <td>1</td>\n      <td>task1/train/mouse001_task1_annotator11</td>\n      <td>1</td>\n      <td>833.050439</td>\n      <td>809.050439</td>\n      <td>778.050439</td>\n      <td>783.050439</td>\n      <td>723.050439</td>\n      <td>717.050439</td>\n      <td>...</td>\n      <td>799.907019</td>\n      <td>846.907019</td>\n      <td>766.907019</td>\n      <td>259.539977</td>\n      <td>204.539977</td>\n      <td>201.539977</td>\n      <td>188.539977</td>\n      <td>153.539977</td>\n      <td>105.539977</td>\n      <td>98.539977</td>\n    </tr>\n    <tr>\n      <th>2</th>\n      <td>task1/train/mouse001_task1_annotator1</td>\n      <td>2</td>\n      <td>task1/train/mouse001_task1_annotator12</td>\n      <td>1</td>\n      <td>838.718976</td>\n      <td>816.718976</td>\n      <td>776.718976</td>\n      <td>787.718976</td>\n      <td>730.718976</td>\n      <td>713.718976</td>\n      <td>...</td>\n      <td>800.195703</td>\n      <td>860.195703</td>\n      <td>777.195703</td>\n      <td>256.902935</td>\n      <td>208.902935</td>\n      <td>205.902935</td>\n      <td>193.902935</td>\n      <td>150.902935</td>\n      <td>112.902935</td>\n      <td>99.902935</td>\n    </tr>\n    <tr>\n      <th>3</th>\n      <td>task1/train/mouse001_task1_annotator1</td>\n      <td>3</td>\n      <td>task1/train/mouse001_task1_annotator13</td>\n      <td>1</td>\n      <td>826.757507</td>\n      <td>815.757507</td>\n      <td>774.757507</td>\n      <td>785.757507</td>\n      <td>743.757507</td>\n      <td>711.757507</td>\n      <td>...</td>\n      <td>794.788861</td>\n      <td>856.788861</td>\n      <td>786.788861</td>\n      <td>263.420539</td>\n      <td>206.420539</td>\n      <td>206.420539</td>\n      <td>193.420539</td>\n      <td>147.420539</td>\n      <td>113.420539</td>\n      <td>97.420539</td>\n    </tr>\n    <tr>\n      <th>4</th>\n      <td>task1/train/mouse001_task1_annotator1</td>\n      <td>4</td>\n      <td>task1/train/mouse001_task1_annotator14</td>\n      <td>1</td>\n      <td>822.045709</td>\n      <td>812.045709</td>\n      <td>768.045709</td>\n      <td>779.045709</td>\n      <td>749.045709</td>\n      <td>709.045709</td>\n      <td>...</td>\n      <td>789.578644</td>\n      <td>862.578644</td>\n      <td>793.578644</td>\n      <td>263.366469</td>\n      <td>202.366469</td>\n      <td>201.366469</td>\n      <td>190.366469</td>\n      <td>143.366469</td>\n      <td>120.366469</td>\n      <td>95.366469</td>\n    </tr>\n  </tbody>\n</table>\n<p>5 rows × 32 columns</p>\n</div>"
     },
     "execution_count": 6,
     "metadata": {},
     "output_type": "execute_result"
    }
   ],
   "source": [
    "# converting the data into a dataframe\n",
    "df = pd.DataFrame(data)\n",
    "df.head()"
   ],
   "metadata": {
    "collapsed": false,
    "pycharm": {
     "name": "#%%\n"
    }
   }
  },
  {
   "cell_type": "code",
   "execution_count": 7,
   "outputs": [
    {
     "data": {
      "text/plain": "label\n0     14039\n1    146615\n2     28615\n3    318469\nName: label, dtype: int64"
     },
     "execution_count": 7,
     "metadata": {},
     "output_type": "execute_result"
    }
   ],
   "source": [
    "# check label distribution - imbalanced classification problem\n",
    "df.groupby(['label'])['label'].count()"
   ],
   "metadata": {
    "collapsed": false,
    "pycharm": {
     "name": "#%%\n"
    }
   }
  },
  {
   "cell_type": "code",
   "execution_count": 8,
   "outputs": [
    {
     "data": {
      "text/plain": "attack\n0    493699\n1     14039\nName: attack, dtype: int64"
     },
     "execution_count": 8,
     "metadata": {},
     "output_type": "execute_result"
    }
   ],
   "source": [
    "# adding a column for binary classification for attack\n",
    "df['attack'] = np.where(df['label']==0, 1, 0)\n",
    "df.groupby(['attack'])['attack'].count()"
   ],
   "metadata": {
    "collapsed": false,
    "pycharm": {
     "name": "#%%\n"
    }
   }
  },
  {
   "cell_type": "code",
   "execution_count": 9,
   "outputs": [
    {
     "data": {
      "text/plain": "                                     sequence  frame  \\\n23470   task1/train/mouse002_task1_annotator1   2106   \n23471   task1/train/mouse002_task1_annotator1   2107   \n23472   task1/train/mouse002_task1_annotator1   2108   \n23473   task1/train/mouse002_task1_annotator1   2109   \n23474   task1/train/mouse002_task1_annotator1   2110   \n...                                       ...    ...   \n507386  task1/train/mouse070_task1_annotator1  12185   \n507387  task1/train/mouse070_task1_annotator1  12186   \n507388  task1/train/mouse070_task1_annotator1  12187   \n507389  task1/train/mouse070_task1_annotator1  12188   \n507390  task1/train/mouse070_task1_annotator1  12189   \n\n                                                id  label   m1_x_nose  \\\n23470    task1/train/mouse002_task1_annotator12106      0  200.810637   \n23471    task1/train/mouse002_task1_annotator12107      0  217.102132   \n23472    task1/train/mouse002_task1_annotator12108      0  188.905800   \n23473    task1/train/mouse002_task1_annotator12109      0  215.931004   \n23474    task1/train/mouse002_task1_annotator12110      0  220.757887   \n...                                            ...    ...         ...   \n507386  task1/train/mouse070_task1_annotator112185      0  758.709680   \n507387  task1/train/mouse070_task1_annotator112186      0  820.085913   \n507388  task1/train/mouse070_task1_annotator112187      0  903.216522   \n507389  task1/train/mouse070_task1_annotator112188      0  902.815503   \n507390  task1/train/mouse070_task1_annotator112189      0  867.971613   \n\n        m1_x_left_ear  m1_x_right_ear   m1_x_neck  m1_x_left_hip  \\\n23470      236.810637      170.810637  198.810637     227.810637   \n23471      224.102132      166.102132  191.102132     227.102132   \n23472      227.905800      155.905800  187.905800     230.905800   \n23473      218.931004      146.931004  176.931004     231.931004   \n23474      214.757887      143.757887  170.757887     220.757887   \n...               ...             ...         ...            ...   \n507386     709.709680      698.709680  680.709680     603.709680   \n507387     777.085913      772.085913  759.085913     636.085913   \n507388     835.216522      820.216522  807.216522     720.216522   \n507389     848.815503      836.815503  826.815503     757.815503   \n507390     835.971613      821.971613  808.971613     754.971613   \n\n        m1_x_right_hip  ...  m2_x_right_hip  m2_x_tail_base   m2_y_nose  \\\n23470       146.810637  ...      295.559488      226.559488  196.530399   \n23471       153.102132  ...      268.606415      293.606415  171.211275   \n23472       154.905800  ...      267.856203      289.856203  158.902380   \n23473       156.931004  ...      261.040175      282.040175  148.514660   \n23474       146.757887  ...      265.017714      253.017714  161.940282   \n...                ...  ...             ...             ...         ...   \n507386      590.709680  ...      860.900513      820.900513  225.038497   \n507387      635.085913  ...      887.764648      855.764648  183.435973   \n507388      712.216522  ...      891.783875      858.783875  145.317623   \n507389      766.815503  ...      881.801709      870.801709  118.164476   \n507390      764.971613  ...      884.988562      880.988562   58.521539   \n\n        m2_y_left_ear  m2_y_right_ear   m2_y_neck  m2_y_left_hip  \\\n23470      133.530399      159.530399  136.530399     109.530399   \n23471      102.211275      136.211275  113.211275      94.211275   \n23472       86.902380      127.902380   98.902380      88.902380   \n23473       75.514660      119.514660   92.514660      91.514660   \n23474       71.940282      122.940282   92.940282     106.940282   \n...               ...             ...         ...            ...   \n507386     278.038497      210.038497  249.038497     316.038497   \n507387     258.435973      197.435973  236.435973     302.435973   \n507388     224.317623      172.317623  213.317623     291.317623   \n507389     205.164476      161.164476  196.164476     267.164476   \n507390     110.521539      124.521539  140.521539     224.521539   \n\n        m2_y_right_hip  m2_y_tail_base  attack  \n23470       119.530399       96.530399       1  \n23471       156.211275      117.211275       1  \n23472       147.902380      119.902380       1  \n23473       153.514660      120.514660       1  \n23474       151.940282      171.940282       1  \n...                ...             ...     ...  \n507386      236.038497      279.038497       1  \n507387      224.435973      252.435973       1  \n507388      212.317623      250.317623       1  \n507389      214.164476      253.164476       1  \n507390      228.521539      280.521539       1  \n\n[14039 rows x 33 columns]",
      "text/html": "<div>\n<style scoped>\n    .dataframe tbody tr th:only-of-type {\n        vertical-align: middle;\n    }\n\n    .dataframe tbody tr th {\n        vertical-align: top;\n    }\n\n    .dataframe thead th {\n        text-align: right;\n    }\n</style>\n<table border=\"1\" class=\"dataframe\">\n  <thead>\n    <tr style=\"text-align: right;\">\n      <th></th>\n      <th>sequence</th>\n      <th>frame</th>\n      <th>id</th>\n      <th>label</th>\n      <th>m1_x_nose</th>\n      <th>m1_x_left_ear</th>\n      <th>m1_x_right_ear</th>\n      <th>m1_x_neck</th>\n      <th>m1_x_left_hip</th>\n      <th>m1_x_right_hip</th>\n      <th>...</th>\n      <th>m2_x_right_hip</th>\n      <th>m2_x_tail_base</th>\n      <th>m2_y_nose</th>\n      <th>m2_y_left_ear</th>\n      <th>m2_y_right_ear</th>\n      <th>m2_y_neck</th>\n      <th>m2_y_left_hip</th>\n      <th>m2_y_right_hip</th>\n      <th>m2_y_tail_base</th>\n      <th>attack</th>\n    </tr>\n  </thead>\n  <tbody>\n    <tr>\n      <th>23470</th>\n      <td>task1/train/mouse002_task1_annotator1</td>\n      <td>2106</td>\n      <td>task1/train/mouse002_task1_annotator12106</td>\n      <td>0</td>\n      <td>200.810637</td>\n      <td>236.810637</td>\n      <td>170.810637</td>\n      <td>198.810637</td>\n      <td>227.810637</td>\n      <td>146.810637</td>\n      <td>...</td>\n      <td>295.559488</td>\n      <td>226.559488</td>\n      <td>196.530399</td>\n      <td>133.530399</td>\n      <td>159.530399</td>\n      <td>136.530399</td>\n      <td>109.530399</td>\n      <td>119.530399</td>\n      <td>96.530399</td>\n      <td>1</td>\n    </tr>\n    <tr>\n      <th>23471</th>\n      <td>task1/train/mouse002_task1_annotator1</td>\n      <td>2107</td>\n      <td>task1/train/mouse002_task1_annotator12107</td>\n      <td>0</td>\n      <td>217.102132</td>\n      <td>224.102132</td>\n      <td>166.102132</td>\n      <td>191.102132</td>\n      <td>227.102132</td>\n      <td>153.102132</td>\n      <td>...</td>\n      <td>268.606415</td>\n      <td>293.606415</td>\n      <td>171.211275</td>\n      <td>102.211275</td>\n      <td>136.211275</td>\n      <td>113.211275</td>\n      <td>94.211275</td>\n      <td>156.211275</td>\n      <td>117.211275</td>\n      <td>1</td>\n    </tr>\n    <tr>\n      <th>23472</th>\n      <td>task1/train/mouse002_task1_annotator1</td>\n      <td>2108</td>\n      <td>task1/train/mouse002_task1_annotator12108</td>\n      <td>0</td>\n      <td>188.905800</td>\n      <td>227.905800</td>\n      <td>155.905800</td>\n      <td>187.905800</td>\n      <td>230.905800</td>\n      <td>154.905800</td>\n      <td>...</td>\n      <td>267.856203</td>\n      <td>289.856203</td>\n      <td>158.902380</td>\n      <td>86.902380</td>\n      <td>127.902380</td>\n      <td>98.902380</td>\n      <td>88.902380</td>\n      <td>147.902380</td>\n      <td>119.902380</td>\n      <td>1</td>\n    </tr>\n    <tr>\n      <th>23473</th>\n      <td>task1/train/mouse002_task1_annotator1</td>\n      <td>2109</td>\n      <td>task1/train/mouse002_task1_annotator12109</td>\n      <td>0</td>\n      <td>215.931004</td>\n      <td>218.931004</td>\n      <td>146.931004</td>\n      <td>176.931004</td>\n      <td>231.931004</td>\n      <td>156.931004</td>\n      <td>...</td>\n      <td>261.040175</td>\n      <td>282.040175</td>\n      <td>148.514660</td>\n      <td>75.514660</td>\n      <td>119.514660</td>\n      <td>92.514660</td>\n      <td>91.514660</td>\n      <td>153.514660</td>\n      <td>120.514660</td>\n      <td>1</td>\n    </tr>\n    <tr>\n      <th>23474</th>\n      <td>task1/train/mouse002_task1_annotator1</td>\n      <td>2110</td>\n      <td>task1/train/mouse002_task1_annotator12110</td>\n      <td>0</td>\n      <td>220.757887</td>\n      <td>214.757887</td>\n      <td>143.757887</td>\n      <td>170.757887</td>\n      <td>220.757887</td>\n      <td>146.757887</td>\n      <td>...</td>\n      <td>265.017714</td>\n      <td>253.017714</td>\n      <td>161.940282</td>\n      <td>71.940282</td>\n      <td>122.940282</td>\n      <td>92.940282</td>\n      <td>106.940282</td>\n      <td>151.940282</td>\n      <td>171.940282</td>\n      <td>1</td>\n    </tr>\n    <tr>\n      <th>...</th>\n      <td>...</td>\n      <td>...</td>\n      <td>...</td>\n      <td>...</td>\n      <td>...</td>\n      <td>...</td>\n      <td>...</td>\n      <td>...</td>\n      <td>...</td>\n      <td>...</td>\n      <td>...</td>\n      <td>...</td>\n      <td>...</td>\n      <td>...</td>\n      <td>...</td>\n      <td>...</td>\n      <td>...</td>\n      <td>...</td>\n      <td>...</td>\n      <td>...</td>\n      <td>...</td>\n    </tr>\n    <tr>\n      <th>507386</th>\n      <td>task1/train/mouse070_task1_annotator1</td>\n      <td>12185</td>\n      <td>task1/train/mouse070_task1_annotator112185</td>\n      <td>0</td>\n      <td>758.709680</td>\n      <td>709.709680</td>\n      <td>698.709680</td>\n      <td>680.709680</td>\n      <td>603.709680</td>\n      <td>590.709680</td>\n      <td>...</td>\n      <td>860.900513</td>\n      <td>820.900513</td>\n      <td>225.038497</td>\n      <td>278.038497</td>\n      <td>210.038497</td>\n      <td>249.038497</td>\n      <td>316.038497</td>\n      <td>236.038497</td>\n      <td>279.038497</td>\n      <td>1</td>\n    </tr>\n    <tr>\n      <th>507387</th>\n      <td>task1/train/mouse070_task1_annotator1</td>\n      <td>12186</td>\n      <td>task1/train/mouse070_task1_annotator112186</td>\n      <td>0</td>\n      <td>820.085913</td>\n      <td>777.085913</td>\n      <td>772.085913</td>\n      <td>759.085913</td>\n      <td>636.085913</td>\n      <td>635.085913</td>\n      <td>...</td>\n      <td>887.764648</td>\n      <td>855.764648</td>\n      <td>183.435973</td>\n      <td>258.435973</td>\n      <td>197.435973</td>\n      <td>236.435973</td>\n      <td>302.435973</td>\n      <td>224.435973</td>\n      <td>252.435973</td>\n      <td>1</td>\n    </tr>\n    <tr>\n      <th>507388</th>\n      <td>task1/train/mouse070_task1_annotator1</td>\n      <td>12187</td>\n      <td>task1/train/mouse070_task1_annotator112187</td>\n      <td>0</td>\n      <td>903.216522</td>\n      <td>835.216522</td>\n      <td>820.216522</td>\n      <td>807.216522</td>\n      <td>720.216522</td>\n      <td>712.216522</td>\n      <td>...</td>\n      <td>891.783875</td>\n      <td>858.783875</td>\n      <td>145.317623</td>\n      <td>224.317623</td>\n      <td>172.317623</td>\n      <td>213.317623</td>\n      <td>291.317623</td>\n      <td>212.317623</td>\n      <td>250.317623</td>\n      <td>1</td>\n    </tr>\n    <tr>\n      <th>507389</th>\n      <td>task1/train/mouse070_task1_annotator1</td>\n      <td>12188</td>\n      <td>task1/train/mouse070_task1_annotator112188</td>\n      <td>0</td>\n      <td>902.815503</td>\n      <td>848.815503</td>\n      <td>836.815503</td>\n      <td>826.815503</td>\n      <td>757.815503</td>\n      <td>766.815503</td>\n      <td>...</td>\n      <td>881.801709</td>\n      <td>870.801709</td>\n      <td>118.164476</td>\n      <td>205.164476</td>\n      <td>161.164476</td>\n      <td>196.164476</td>\n      <td>267.164476</td>\n      <td>214.164476</td>\n      <td>253.164476</td>\n      <td>1</td>\n    </tr>\n    <tr>\n      <th>507390</th>\n      <td>task1/train/mouse070_task1_annotator1</td>\n      <td>12189</td>\n      <td>task1/train/mouse070_task1_annotator112189</td>\n      <td>0</td>\n      <td>867.971613</td>\n      <td>835.971613</td>\n      <td>821.971613</td>\n      <td>808.971613</td>\n      <td>754.971613</td>\n      <td>764.971613</td>\n      <td>...</td>\n      <td>884.988562</td>\n      <td>880.988562</td>\n      <td>58.521539</td>\n      <td>110.521539</td>\n      <td>124.521539</td>\n      <td>140.521539</td>\n      <td>224.521539</td>\n      <td>228.521539</td>\n      <td>280.521539</td>\n      <td>1</td>\n    </tr>\n  </tbody>\n</table>\n<p>14039 rows × 33 columns</p>\n</div>"
     },
     "execution_count": 9,
     "metadata": {},
     "output_type": "execute_result"
    }
   ],
   "source": [
    "df.query('attack==1')"
   ],
   "metadata": {
    "collapsed": false,
    "pycharm": {
     "name": "#%%\n"
    }
   }
  },
  {
   "cell_type": "code",
   "execution_count": 10,
   "outputs": [],
   "source": [
    "# download the dataset to be reused\n",
    "df.to_csv('calms21_tab_data.csv')"
   ],
   "metadata": {
    "collapsed": false,
    "pycharm": {
     "name": "#%%\n"
    }
   }
  },
  {
   "cell_type": "markdown",
   "source": [
    "## Potential enhancements\n",
    "Experiments from causal inference showing relation to the distance of the mouse could be included.\n",
    "Distances between the different bodypart points could be included.\n",
    "?\n",
    "?\n",
    "?"
   ],
   "metadata": {
    "collapsed": false,
    "pycharm": {
     "name": "#%% md\n"
    }
   }
  }
 ],
 "metadata": {
  "kernelspec": {
   "name": "pycharm-f168ab6b",
   "language": "python",
   "display_name": "PyCharm (CN-pr-CalMS21)"
  },
  "language_info": {
   "codemirror_mode": {
    "name": "ipython",
    "version": 2
   },
   "file_extension": ".py",
   "mimetype": "text/x-python",
   "name": "python",
   "nbconvert_exporter": "python",
   "pygments_lexer": "ipython2",
   "version": "2.7.6"
  }
 },
 "nbformat": 4,
 "nbformat_minor": 0
}